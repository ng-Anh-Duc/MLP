{
  "nbformat": 4,
  "nbformat_minor": 0,
  "metadata": {
    "colab": {
      "provenance": []
    },
    "kernelspec": {
      "name": "python3",
      "display_name": "Python 3"
    },
    "language_info": {
      "name": "python"
    }
  },
  "cells": [
    {
      "cell_type": "code",
      "execution_count": 2,
      "metadata": {
        "colab": {
          "base_uri": "https://localhost:8080/"
        },
        "id": "qyIq6Ib8jDJx",
        "outputId": "c9cd3294-8502-44b0-ccd2-26116d0d71ab"
      },
      "outputs": [
        {
          "output_type": "stream",
          "name": "stdout",
          "text": [
            "/usr/local/lib/python3.10/dist-packages/gdown/cli.py:121: FutureWarning: Option `--id` was deprecated in version 4.3.1 and will be removed in 5.0. You don't need to pass it anymore to use a file ID.\n",
            "  warnings.warn(\n",
            "Downloading...\n",
            "From: https://drive.google.com/uc?id=1fB9P1Ha1ofQiYWU9wkLAxDZTbtp3Gfqz\n",
            "To: /content/Auto_MPG_data.csv\n",
            "100% 15.4k/15.4k [00:00<00:00, 48.0MB/s]\n"
          ]
        }
      ],
      "source": [
        "!gdown --id 1fB9P1Ha1ofQiYWU9wkLAxDZTbtp3Gfqz"
      ]
    },
    {
      "cell_type": "code",
      "source": [
        "import numpy as np\n",
        "import pandas as pd\n",
        "import matplotlib.pyplot as plt\n",
        "import torch\n",
        "from torch import nn\n",
        "import torch.optim as optim\n",
        "from torch.utils.data import Dataset, DataLoader\n",
        "\n",
        "device = torch.device('cuda:0' if torch.cuda.is_available() else 'cpu')\n",
        "torch.manual_seed(42)"
      ],
      "metadata": {
        "colab": {
          "base_uri": "https://localhost:8080/"
        },
        "id": "rRs7yJexjOcc",
        "outputId": "54ef7d89-0bec-4d67-8d9d-0262f3b339b7"
      },
      "execution_count": 26,
      "outputs": [
        {
          "output_type": "execute_result",
          "data": {
            "text/plain": [
              "<torch._C.Generator at 0x7f5416e377b0>"
            ]
          },
          "metadata": {},
          "execution_count": 26
        }
      ]
    },
    {
      "cell_type": "code",
      "source": [
        "dataset = pd.read_csv('/content/Auto_MPG_data.csv')\n",
        "dataset.head()"
      ],
      "metadata": {
        "colab": {
          "base_uri": "https://localhost:8080/",
          "height": 244
        },
        "id": "nnzY49toj43V",
        "outputId": "6e1d2f78-9128-4917-9895-776b4af11241"
      },
      "execution_count": 27,
      "outputs": [
        {
          "output_type": "execute_result",
          "data": {
            "text/plain": [
              "    MPG  Cylinders  Displacement  Horsepower  Weight  Acceleration  \\\n",
              "0  18.0          8         307.0       130.0  3504.0          12.0   \n",
              "1  15.0          8         350.0       165.0  3693.0          11.5   \n",
              "2  18.0          8         318.0       150.0  3436.0          11.0   \n",
              "3  16.0          8         304.0       150.0  3433.0          12.0   \n",
              "4  17.0          8         302.0       140.0  3449.0          10.5   \n",
              "\n",
              "   Model Year  Europe  Japan  USA  \n",
              "0          70       0      0    1  \n",
              "1          70       0      0    1  \n",
              "2          70       0      0    1  \n",
              "3          70       0      0    1  \n",
              "4          70       0      0    1  "
            ],
            "text/html": [
              "\n",
              "  <div id=\"df-7fbcd51d-90dd-4e06-a33f-90dfad23777a\" class=\"colab-df-container\">\n",
              "    <div>\n",
              "<style scoped>\n",
              "    .dataframe tbody tr th:only-of-type {\n",
              "        vertical-align: middle;\n",
              "    }\n",
              "\n",
              "    .dataframe tbody tr th {\n",
              "        vertical-align: top;\n",
              "    }\n",
              "\n",
              "    .dataframe thead th {\n",
              "        text-align: right;\n",
              "    }\n",
              "</style>\n",
              "<table border=\"1\" class=\"dataframe\">\n",
              "  <thead>\n",
              "    <tr style=\"text-align: right;\">\n",
              "      <th></th>\n",
              "      <th>MPG</th>\n",
              "      <th>Cylinders</th>\n",
              "      <th>Displacement</th>\n",
              "      <th>Horsepower</th>\n",
              "      <th>Weight</th>\n",
              "      <th>Acceleration</th>\n",
              "      <th>Model Year</th>\n",
              "      <th>Europe</th>\n",
              "      <th>Japan</th>\n",
              "      <th>USA</th>\n",
              "    </tr>\n",
              "  </thead>\n",
              "  <tbody>\n",
              "    <tr>\n",
              "      <th>0</th>\n",
              "      <td>18.0</td>\n",
              "      <td>8</td>\n",
              "      <td>307.0</td>\n",
              "      <td>130.0</td>\n",
              "      <td>3504.0</td>\n",
              "      <td>12.0</td>\n",
              "      <td>70</td>\n",
              "      <td>0</td>\n",
              "      <td>0</td>\n",
              "      <td>1</td>\n",
              "    </tr>\n",
              "    <tr>\n",
              "      <th>1</th>\n",
              "      <td>15.0</td>\n",
              "      <td>8</td>\n",
              "      <td>350.0</td>\n",
              "      <td>165.0</td>\n",
              "      <td>3693.0</td>\n",
              "      <td>11.5</td>\n",
              "      <td>70</td>\n",
              "      <td>0</td>\n",
              "      <td>0</td>\n",
              "      <td>1</td>\n",
              "    </tr>\n",
              "    <tr>\n",
              "      <th>2</th>\n",
              "      <td>18.0</td>\n",
              "      <td>8</td>\n",
              "      <td>318.0</td>\n",
              "      <td>150.0</td>\n",
              "      <td>3436.0</td>\n",
              "      <td>11.0</td>\n",
              "      <td>70</td>\n",
              "      <td>0</td>\n",
              "      <td>0</td>\n",
              "      <td>1</td>\n",
              "    </tr>\n",
              "    <tr>\n",
              "      <th>3</th>\n",
              "      <td>16.0</td>\n",
              "      <td>8</td>\n",
              "      <td>304.0</td>\n",
              "      <td>150.0</td>\n",
              "      <td>3433.0</td>\n",
              "      <td>12.0</td>\n",
              "      <td>70</td>\n",
              "      <td>0</td>\n",
              "      <td>0</td>\n",
              "      <td>1</td>\n",
              "    </tr>\n",
              "    <tr>\n",
              "      <th>4</th>\n",
              "      <td>17.0</td>\n",
              "      <td>8</td>\n",
              "      <td>302.0</td>\n",
              "      <td>140.0</td>\n",
              "      <td>3449.0</td>\n",
              "      <td>10.5</td>\n",
              "      <td>70</td>\n",
              "      <td>0</td>\n",
              "      <td>0</td>\n",
              "      <td>1</td>\n",
              "    </tr>\n",
              "  </tbody>\n",
              "</table>\n",
              "</div>\n",
              "    <div class=\"colab-df-buttons\">\n",
              "\n",
              "  <div class=\"colab-df-container\">\n",
              "    <button class=\"colab-df-convert\" onclick=\"convertToInteractive('df-7fbcd51d-90dd-4e06-a33f-90dfad23777a')\"\n",
              "            title=\"Convert this dataframe to an interactive table.\"\n",
              "            style=\"display:none;\">\n",
              "\n",
              "  <svg xmlns=\"http://www.w3.org/2000/svg\" height=\"24px\" viewBox=\"0 -960 960 960\">\n",
              "    <path d=\"M120-120v-720h720v720H120Zm60-500h600v-160H180v160Zm220 220h160v-160H400v160Zm0 220h160v-160H400v160ZM180-400h160v-160H180v160Zm440 0h160v-160H620v160ZM180-180h160v-160H180v160Zm440 0h160v-160H620v160Z\"/>\n",
              "  </svg>\n",
              "    </button>\n",
              "\n",
              "  <style>\n",
              "    .colab-df-container {\n",
              "      display:flex;\n",
              "      gap: 12px;\n",
              "    }\n",
              "\n",
              "    .colab-df-convert {\n",
              "      background-color: #E8F0FE;\n",
              "      border: none;\n",
              "      border-radius: 50%;\n",
              "      cursor: pointer;\n",
              "      display: none;\n",
              "      fill: #1967D2;\n",
              "      height: 32px;\n",
              "      padding: 0 0 0 0;\n",
              "      width: 32px;\n",
              "    }\n",
              "\n",
              "    .colab-df-convert:hover {\n",
              "      background-color: #E2EBFA;\n",
              "      box-shadow: 0px 1px 2px rgba(60, 64, 67, 0.3), 0px 1px 3px 1px rgba(60, 64, 67, 0.15);\n",
              "      fill: #174EA6;\n",
              "    }\n",
              "\n",
              "    .colab-df-buttons div {\n",
              "      margin-bottom: 4px;\n",
              "    }\n",
              "\n",
              "    [theme=dark] .colab-df-convert {\n",
              "      background-color: #3B4455;\n",
              "      fill: #D2E3FC;\n",
              "    }\n",
              "\n",
              "    [theme=dark] .colab-df-convert:hover {\n",
              "      background-color: #434B5C;\n",
              "      box-shadow: 0px 1px 3px 1px rgba(0, 0, 0, 0.15);\n",
              "      filter: drop-shadow(0px 1px 2px rgba(0, 0, 0, 0.3));\n",
              "      fill: #FFFFFF;\n",
              "    }\n",
              "  </style>\n",
              "\n",
              "    <script>\n",
              "      const buttonEl =\n",
              "        document.querySelector('#df-7fbcd51d-90dd-4e06-a33f-90dfad23777a button.colab-df-convert');\n",
              "      buttonEl.style.display =\n",
              "        google.colab.kernel.accessAllowed ? 'block' : 'none';\n",
              "\n",
              "      async function convertToInteractive(key) {\n",
              "        const element = document.querySelector('#df-7fbcd51d-90dd-4e06-a33f-90dfad23777a');\n",
              "        const dataTable =\n",
              "          await google.colab.kernel.invokeFunction('convertToInteractive',\n",
              "                                                    [key], {});\n",
              "        if (!dataTable) return;\n",
              "\n",
              "        const docLinkHtml = 'Like what you see? Visit the ' +\n",
              "          '<a target=\"_blank\" href=https://colab.research.google.com/notebooks/data_table.ipynb>data table notebook</a>'\n",
              "          + ' to learn more about interactive tables.';\n",
              "        element.innerHTML = '';\n",
              "        dataTable['output_type'] = 'display_data';\n",
              "        await google.colab.output.renderOutput(dataTable, element);\n",
              "        const docLink = document.createElement('div');\n",
              "        docLink.innerHTML = docLinkHtml;\n",
              "        element.appendChild(docLink);\n",
              "      }\n",
              "    </script>\n",
              "  </div>\n",
              "\n",
              "\n",
              "<div id=\"df-50e990a1-79f6-494d-876c-5113dedbf2cc\">\n",
              "  <button class=\"colab-df-quickchart\" onclick=\"quickchart('df-50e990a1-79f6-494d-876c-5113dedbf2cc')\"\n",
              "            title=\"Suggest charts\"\n",
              "            style=\"display:none;\">\n",
              "\n",
              "<svg xmlns=\"http://www.w3.org/2000/svg\" height=\"24px\"viewBox=\"0 0 24 24\"\n",
              "     width=\"24px\">\n",
              "    <g>\n",
              "        <path d=\"M19 3H5c-1.1 0-2 .9-2 2v14c0 1.1.9 2 2 2h14c1.1 0 2-.9 2-2V5c0-1.1-.9-2-2-2zM9 17H7v-7h2v7zm4 0h-2V7h2v10zm4 0h-2v-4h2v4z\"/>\n",
              "    </g>\n",
              "</svg>\n",
              "  </button>\n",
              "\n",
              "<style>\n",
              "  .colab-df-quickchart {\n",
              "      --bg-color: #E8F0FE;\n",
              "      --fill-color: #1967D2;\n",
              "      --hover-bg-color: #E2EBFA;\n",
              "      --hover-fill-color: #174EA6;\n",
              "      --disabled-fill-color: #AAA;\n",
              "      --disabled-bg-color: #DDD;\n",
              "  }\n",
              "\n",
              "  [theme=dark] .colab-df-quickchart {\n",
              "      --bg-color: #3B4455;\n",
              "      --fill-color: #D2E3FC;\n",
              "      --hover-bg-color: #434B5C;\n",
              "      --hover-fill-color: #FFFFFF;\n",
              "      --disabled-bg-color: #3B4455;\n",
              "      --disabled-fill-color: #666;\n",
              "  }\n",
              "\n",
              "  .colab-df-quickchart {\n",
              "    background-color: var(--bg-color);\n",
              "    border: none;\n",
              "    border-radius: 50%;\n",
              "    cursor: pointer;\n",
              "    display: none;\n",
              "    fill: var(--fill-color);\n",
              "    height: 32px;\n",
              "    padding: 0;\n",
              "    width: 32px;\n",
              "  }\n",
              "\n",
              "  .colab-df-quickchart:hover {\n",
              "    background-color: var(--hover-bg-color);\n",
              "    box-shadow: 0 1px 2px rgba(60, 64, 67, 0.3), 0 1px 3px 1px rgba(60, 64, 67, 0.15);\n",
              "    fill: var(--button-hover-fill-color);\n",
              "  }\n",
              "\n",
              "  .colab-df-quickchart-complete:disabled,\n",
              "  .colab-df-quickchart-complete:disabled:hover {\n",
              "    background-color: var(--disabled-bg-color);\n",
              "    fill: var(--disabled-fill-color);\n",
              "    box-shadow: none;\n",
              "  }\n",
              "\n",
              "  .colab-df-spinner {\n",
              "    border: 2px solid var(--fill-color);\n",
              "    border-color: transparent;\n",
              "    border-bottom-color: var(--fill-color);\n",
              "    animation:\n",
              "      spin 1s steps(1) infinite;\n",
              "  }\n",
              "\n",
              "  @keyframes spin {\n",
              "    0% {\n",
              "      border-color: transparent;\n",
              "      border-bottom-color: var(--fill-color);\n",
              "      border-left-color: var(--fill-color);\n",
              "    }\n",
              "    20% {\n",
              "      border-color: transparent;\n",
              "      border-left-color: var(--fill-color);\n",
              "      border-top-color: var(--fill-color);\n",
              "    }\n",
              "    30% {\n",
              "      border-color: transparent;\n",
              "      border-left-color: var(--fill-color);\n",
              "      border-top-color: var(--fill-color);\n",
              "      border-right-color: var(--fill-color);\n",
              "    }\n",
              "    40% {\n",
              "      border-color: transparent;\n",
              "      border-right-color: var(--fill-color);\n",
              "      border-top-color: var(--fill-color);\n",
              "    }\n",
              "    60% {\n",
              "      border-color: transparent;\n",
              "      border-right-color: var(--fill-color);\n",
              "    }\n",
              "    80% {\n",
              "      border-color: transparent;\n",
              "      border-right-color: var(--fill-color);\n",
              "      border-bottom-color: var(--fill-color);\n",
              "    }\n",
              "    90% {\n",
              "      border-color: transparent;\n",
              "      border-bottom-color: var(--fill-color);\n",
              "    }\n",
              "  }\n",
              "</style>\n",
              "\n",
              "  <script>\n",
              "    async function quickchart(key) {\n",
              "      const quickchartButtonEl =\n",
              "        document.querySelector('#' + key + ' button');\n",
              "      quickchartButtonEl.disabled = true;  // To prevent multiple clicks.\n",
              "      quickchartButtonEl.classList.add('colab-df-spinner');\n",
              "      try {\n",
              "        const charts = await google.colab.kernel.invokeFunction(\n",
              "            'suggestCharts', [key], {});\n",
              "      } catch (error) {\n",
              "        console.error('Error during call to suggestCharts:', error);\n",
              "      }\n",
              "      quickchartButtonEl.classList.remove('colab-df-spinner');\n",
              "      quickchartButtonEl.classList.add('colab-df-quickchart-complete');\n",
              "    }\n",
              "    (() => {\n",
              "      let quickchartButtonEl =\n",
              "        document.querySelector('#df-50e990a1-79f6-494d-876c-5113dedbf2cc button');\n",
              "      quickchartButtonEl.style.display =\n",
              "        google.colab.kernel.accessAllowed ? 'block' : 'none';\n",
              "    })();\n",
              "  </script>\n",
              "</div>\n",
              "    </div>\n",
              "  </div>\n"
            ]
          },
          "metadata": {},
          "execution_count": 27
        }
      ]
    },
    {
      "cell_type": "code",
      "source": [
        "train_dataset = dataset.sample(frac=0.8,random_state=1)\n",
        "val_dataset = dataset.drop(train_dataset.index)"
      ],
      "metadata": {
        "id": "PX31YxT_j_7q"
      },
      "execution_count": 35,
      "outputs": []
    },
    {
      "cell_type": "code",
      "source": [
        "X_train = train_dataset.copy()\n",
        "X_val = val_dataset.copy()\n",
        "y_train = X_train.pop('MPG')\n",
        "y_val = X_val.pop('MPG')\n",
        "\n",
        "X_train, y_train = torch.tensor(X_train.values, dtype=torch.float32), torch.tensor(y_train.values, dtype=torch.float32)\n",
        "X_val, y_val = torch.tensor(X_val.values, dtype=torch.float32), torch.tensor(y_val.values, dtype=torch.float32)"
      ],
      "metadata": {
        "id": "J-LyQFFYkRiE"
      },
      "execution_count": 36,
      "outputs": []
    },
    {
      "cell_type": "code",
      "source": [
        "_MEAN = X_train.mean(axis=0)\n",
        "_STD = X_train.std(axis=0)\n",
        "\n",
        "X_train = (X_train - _MEAN)/_STD\n",
        "X_val = (X_val - _MEAN)/_STD"
      ],
      "metadata": {
        "id": "ap-Jsu5VnZPD"
      },
      "execution_count": 37,
      "outputs": []
    },
    {
      "cell_type": "code",
      "source": [
        "class CustomDataset(nn.Module):\n",
        "  def __init__(self, X, y):\n",
        "    self.X = X\n",
        "    self.y = y\n",
        "  def __len__(self):\n",
        "    return len(self.y)\n",
        "  def __getitem__(self, idx):\n",
        "    return self.X[idx], self.y[idx]\n",
        "\n",
        "train_dataset = CustomDataset(X_train, y_train)\n",
        "val_dataset = CustomDataset(X_val, y_val)\n",
        "train_loader = DataLoader(train_dataset, batch_size=32, shuffle=True)\n",
        "val_loader = DataLoader(val_dataset, batch_size=32)"
      ],
      "metadata": {
        "id": "UNhRCoulsDdr"
      },
      "execution_count": 38,
      "outputs": []
    },
    {
      "cell_type": "code",
      "source": [
        "class LinearRegression(nn.Module):\n",
        "  def __init__(self, input_dims, output_dims):\n",
        "    super().__init__()\n",
        "    self.fc = nn.Linear(input_dims, output_dims)\n",
        "  def forward(self, x):\n",
        "    x = self.fc(x)\n",
        "    return x\n",
        "\n",
        "model = LinearRegression(input_dims=9, output_dims=1).to(device)\n",
        "criterion = nn.MSELoss()\n",
        "optimizer = optim.SGD(model.parameters(), lr=0.1)"
      ],
      "metadata": {
        "id": "ryiPPpaUshYH"
      },
      "execution_count": 39,
      "outputs": []
    },
    {
      "cell_type": "code",
      "source": [
        "def r_squared(y_true, y_pred):\n",
        "    \"\"\"\n",
        "    Compute R^2 score.\n",
        "    \"\"\"\n",
        "    y_true = torch.Tensor(y_true)\n",
        "    y_pred = torch.Tensor(y_pred)\n",
        "    mean_true = torch.mean(y_true)\n",
        "    ss_tot = torch.sum((y_true - mean_true) ** 2)\n",
        "    ss_res = torch.sum((y_true - y_pred) ** 2)\n",
        "    r2 = 1 - (ss_res / ss_tot)\n",
        "    return r2"
      ],
      "metadata": {
        "id": "QfEpOyg12HDo"
      },
      "execution_count": 40,
      "outputs": []
    },
    {
      "cell_type": "code",
      "source": [
        "num_epochs = 100\n",
        "train_losses = []\n",
        "val_losses = []\n",
        "train_r2 = []\n",
        "val_r2 = []\n",
        "\n",
        "for epoch in range(num_epochs):\n",
        "  model.train()\n",
        "  train_loss = 0.0\n",
        "  train_target = []\n",
        "  val_target = []\n",
        "  train_predict = []\n",
        "  val_predict = []\n",
        "  for X, y in train_loader:\n",
        "    X, y = X.to(device), y.to(device)\n",
        "    optimizer.zero_grad()\n",
        "    outputs = model(X)\n",
        "    train_predict.extend(outputs.tolist())\n",
        "    train_target.extend(y.tolist())\n",
        "    loss = criterion(outputs, y)\n",
        "    loss.backward()\n",
        "    optimizer.step()\n",
        "    train_loss += loss.item()\n",
        "  train_loss /= len(train_loader)\n",
        "  train_losses.append(train_loss)\n",
        "  train_r2.append(r_squared(train_target, train_predict))\n",
        "  model.eval()\n",
        "  val_loss = 0.0\n",
        "  with torch.no_grad():\n",
        "    for X, y in val_loader:\n",
        "      X, y = X.to(device), y.to(device)\n",
        "      outputs = model(X)\n",
        "      val_predict.extend(outputs.tolist())\n",
        "      val_target.extend(y.tolist())\n",
        "      loss = criterion(outputs, y)\n",
        "      val_loss += loss.item()\n",
        "  val_loss /= len(val_loader)\n",
        "  val_losses.append(val_loss)\n",
        "  val_r2.append(r_squared(val_target, val_predict))\n",
        "  print(f\"Epoch {epoch+1}/{num_epochs}, Train_Loss: {train_loss:.4f},  Validation Loss: {val_loss:.4f}\")"
      ],
      "metadata": {
        "colab": {
          "base_uri": "https://localhost:8080/"
        },
        "id": "D6hj_UB2shaw",
        "outputId": "ce7281cd-ccf2-4a50-b4e1-e0efffb2c024"
      },
      "execution_count": 41,
      "outputs": [
        {
          "output_type": "stream",
          "name": "stdout",
          "text": [
            "Epoch 1/100, Train_Loss: 221.7728,  Validation Loss: 63.1769\n",
            "Epoch 2/100, Train_Loss: 65.5797,  Validation Loss: 49.7546\n",
            "Epoch 3/100, Train_Loss: 63.2627,  Validation Loss: 48.0446\n",
            "Epoch 4/100, Train_Loss: 63.4249,  Validation Loss: 46.2533\n",
            "Epoch 5/100, Train_Loss: 63.9122,  Validation Loss: 47.9731\n",
            "Epoch 6/100, Train_Loss: 62.9457,  Validation Loss: 49.1758\n",
            "Epoch 7/100, Train_Loss: 63.1103,  Validation Loss: 47.1176\n",
            "Epoch 8/100, Train_Loss: 63.8394,  Validation Loss: 47.5545\n",
            "Epoch 9/100, Train_Loss: 63.8239,  Validation Loss: 44.9224\n",
            "Epoch 10/100, Train_Loss: 62.9617,  Validation Loss: 49.7849\n",
            "Epoch 11/100, Train_Loss: 63.3184,  Validation Loss: 48.8024\n",
            "Epoch 12/100, Train_Loss: 63.1278,  Validation Loss: 48.4563\n",
            "Epoch 13/100, Train_Loss: 63.3945,  Validation Loss: 47.8030\n",
            "Epoch 14/100, Train_Loss: 63.8709,  Validation Loss: 48.2355\n",
            "Epoch 15/100, Train_Loss: 63.5782,  Validation Loss: 48.6120\n",
            "Epoch 16/100, Train_Loss: 63.2667,  Validation Loss: 49.5019\n",
            "Epoch 17/100, Train_Loss: 64.2932,  Validation Loss: 44.5345\n",
            "Epoch 18/100, Train_Loss: 63.8044,  Validation Loss: 47.8850\n",
            "Epoch 19/100, Train_Loss: 62.9696,  Validation Loss: 49.5701\n",
            "Epoch 20/100, Train_Loss: 63.5354,  Validation Loss: 47.8100\n",
            "Epoch 21/100, Train_Loss: 63.0112,  Validation Loss: 49.2590\n",
            "Epoch 22/100, Train_Loss: 63.5083,  Validation Loss: 47.6044\n",
            "Epoch 23/100, Train_Loss: 63.0384,  Validation Loss: 47.9196\n",
            "Epoch 24/100, Train_Loss: 63.1773,  Validation Loss: 48.9868\n",
            "Epoch 25/100, Train_Loss: 63.4800,  Validation Loss: 47.1551\n",
            "Epoch 26/100, Train_Loss: 63.5698,  Validation Loss: 43.5230\n",
            "Epoch 27/100, Train_Loss: 63.4605,  Validation Loss: 49.1790\n",
            "Epoch 28/100, Train_Loss: 63.5047,  Validation Loss: 49.1985\n",
            "Epoch 29/100, Train_Loss: 63.3023,  Validation Loss: 48.6866\n",
            "Epoch 30/100, Train_Loss: 63.4570,  Validation Loss: 48.3276\n",
            "Epoch 31/100, Train_Loss: 62.6623,  Validation Loss: 48.9400\n",
            "Epoch 32/100, Train_Loss: 63.6224,  Validation Loss: 46.4057\n",
            "Epoch 33/100, Train_Loss: 63.4790,  Validation Loss: 46.9000\n",
            "Epoch 34/100, Train_Loss: 63.3168,  Validation Loss: 46.1299\n",
            "Epoch 35/100, Train_Loss: 63.8348,  Validation Loss: 48.6648\n",
            "Epoch 36/100, Train_Loss: 63.3788,  Validation Loss: 47.5825\n",
            "Epoch 37/100, Train_Loss: 63.7309,  Validation Loss: 48.3941\n",
            "Epoch 38/100, Train_Loss: 62.9703,  Validation Loss: 48.9674\n",
            "Epoch 39/100, Train_Loss: 62.9792,  Validation Loss: 48.6282\n",
            "Epoch 40/100, Train_Loss: 62.7835,  Validation Loss: 46.2793\n",
            "Epoch 41/100, Train_Loss: 64.7562,  Validation Loss: 47.6146\n",
            "Epoch 42/100, Train_Loss: 63.0601,  Validation Loss: 47.8158\n",
            "Epoch 43/100, Train_Loss: 63.4682,  Validation Loss: 49.7745\n",
            "Epoch 44/100, Train_Loss: 62.9477,  Validation Loss: 49.4264\n",
            "Epoch 45/100, Train_Loss: 63.4145,  Validation Loss: 47.3497\n",
            "Epoch 46/100, Train_Loss: 63.6639,  Validation Loss: 49.4770\n",
            "Epoch 47/100, Train_Loss: 63.7687,  Validation Loss: 46.2895\n",
            "Epoch 48/100, Train_Loss: 63.3437,  Validation Loss: 47.0024\n",
            "Epoch 49/100, Train_Loss: 63.2497,  Validation Loss: 48.2284\n",
            "Epoch 50/100, Train_Loss: 63.2726,  Validation Loss: 47.5829\n",
            "Epoch 51/100, Train_Loss: 63.9097,  Validation Loss: 46.4874\n",
            "Epoch 52/100, Train_Loss: 63.6376,  Validation Loss: 47.4143\n",
            "Epoch 53/100, Train_Loss: 63.5035,  Validation Loss: 47.3034\n",
            "Epoch 54/100, Train_Loss: 63.1145,  Validation Loss: 47.4445\n",
            "Epoch 55/100, Train_Loss: 63.8700,  Validation Loss: 47.7581\n",
            "Epoch 56/100, Train_Loss: 64.2999,  Validation Loss: 47.5098\n",
            "Epoch 57/100, Train_Loss: 63.1089,  Validation Loss: 44.4075\n",
            "Epoch 58/100, Train_Loss: 63.8161,  Validation Loss: 49.8995\n",
            "Epoch 59/100, Train_Loss: 62.9412,  Validation Loss: 46.3945\n",
            "Epoch 60/100, Train_Loss: 63.1654,  Validation Loss: 48.3797\n",
            "Epoch 61/100, Train_Loss: 63.8516,  Validation Loss: 48.2040\n",
            "Epoch 62/100, Train_Loss: 63.9028,  Validation Loss: 48.0885\n",
            "Epoch 63/100, Train_Loss: 63.1020,  Validation Loss: 48.8080\n",
            "Epoch 64/100, Train_Loss: 63.8767,  Validation Loss: 45.7355\n",
            "Epoch 65/100, Train_Loss: 63.3836,  Validation Loss: 48.1309\n",
            "Epoch 66/100, Train_Loss: 62.9427,  Validation Loss: 47.9185\n",
            "Epoch 67/100, Train_Loss: 63.1678,  Validation Loss: 46.7655\n",
            "Epoch 68/100, Train_Loss: 63.7614,  Validation Loss: 48.1926\n",
            "Epoch 69/100, Train_Loss: 63.1564,  Validation Loss: 50.2167\n",
            "Epoch 70/100, Train_Loss: 63.1429,  Validation Loss: 49.2833\n",
            "Epoch 71/100, Train_Loss: 63.3824,  Validation Loss: 46.4169\n",
            "Epoch 72/100, Train_Loss: 63.4010,  Validation Loss: 48.7775\n",
            "Epoch 73/100, Train_Loss: 64.0578,  Validation Loss: 48.7345\n",
            "Epoch 74/100, Train_Loss: 63.3176,  Validation Loss: 47.2880\n",
            "Epoch 75/100, Train_Loss: 62.8537,  Validation Loss: 49.3321\n",
            "Epoch 76/100, Train_Loss: 63.5981,  Validation Loss: 43.9336\n",
            "Epoch 77/100, Train_Loss: 63.1645,  Validation Loss: 47.9807\n",
            "Epoch 78/100, Train_Loss: 62.8865,  Validation Loss: 49.4009\n",
            "Epoch 79/100, Train_Loss: 63.0122,  Validation Loss: 47.9481\n",
            "Epoch 80/100, Train_Loss: 62.8755,  Validation Loss: 48.0330\n",
            "Epoch 81/100, Train_Loss: 63.7594,  Validation Loss: 48.2367\n",
            "Epoch 82/100, Train_Loss: 63.5317,  Validation Loss: 46.7403\n",
            "Epoch 83/100, Train_Loss: 63.4829,  Validation Loss: 48.7318\n",
            "Epoch 84/100, Train_Loss: 63.4931,  Validation Loss: 49.7536\n",
            "Epoch 85/100, Train_Loss: 63.7703,  Validation Loss: 48.3264\n",
            "Epoch 86/100, Train_Loss: 63.2732,  Validation Loss: 47.4695\n",
            "Epoch 87/100, Train_Loss: 63.5853,  Validation Loss: 48.2804\n",
            "Epoch 88/100, Train_Loss: 64.6633,  Validation Loss: 48.7824\n",
            "Epoch 89/100, Train_Loss: 62.8973,  Validation Loss: 47.8345\n",
            "Epoch 90/100, Train_Loss: 64.0717,  Validation Loss: 45.1353\n",
            "Epoch 91/100, Train_Loss: 63.4460,  Validation Loss: 49.1831\n",
            "Epoch 92/100, Train_Loss: 63.3567,  Validation Loss: 47.7417\n",
            "Epoch 93/100, Train_Loss: 63.3999,  Validation Loss: 48.9929\n",
            "Epoch 94/100, Train_Loss: 63.9362,  Validation Loss: 48.7859\n",
            "Epoch 95/100, Train_Loss: 63.2637,  Validation Loss: 49.6564\n",
            "Epoch 96/100, Train_Loss: 63.5502,  Validation Loss: 48.7498\n",
            "Epoch 97/100, Train_Loss: 63.2388,  Validation Loss: 48.4616\n",
            "Epoch 98/100, Train_Loss: 63.0258,  Validation Loss: 49.1835\n",
            "Epoch 99/100, Train_Loss: 63.5347,  Validation Loss: 48.9562\n",
            "Epoch 100/100, Train_Loss: 64.1769,  Validation Loss: 47.3068\n"
          ]
        }
      ]
    },
    {
      "cell_type": "code",
      "source": [
        "plt.plot(train_losses, label='loss')\n",
        "plt.plot(val_losses, label='val_loss')\n",
        "# plt.ylim([0, 40])\n",
        "plt.xlabel('Epoch')\n",
        "plt.ylabel('Error [MPG]')\n",
        "plt.legend()\n",
        "plt.grid(True)"
      ],
      "metadata": {
        "colab": {
          "base_uri": "https://localhost:8080/",
          "height": 449
        },
        "id": "r5aspRGbshdD",
        "outputId": "33ab3fbe-dbed-47fb-8fb6-c395a6a1f8a6"
      },
      "execution_count": 42,
      "outputs": [
        {
          "output_type": "display_data",
          "data": {
            "text/plain": [
              "<Figure size 640x480 with 1 Axes>"
            ],
            "image/png": "[encoded data removed]"
          },
          "metadata": {}
        }
      ]
    },
    {
      "cell_type": "code",
      "source": [
        "plt.plot(train_r2, label='r2')\n",
        "plt.plot(val_r2, label='val_r2')\n",
        "# plt.ylim([0, 40])\n",
        "plt.xlabel('Epoch')\n",
        "plt.ylabel('Error [MPG]')\n",
        "plt.legend()\n",
        "plt.grid(True)"
      ],
      "metadata": {
        "colab": {
          "base_uri": "https://localhost:8080/",
          "height": 449
        },
        "id": "b6R8lROWshfb",
        "outputId": "b498559a-efd6-4163-8589-6f389db7ba6f"
      },
      "execution_count": 43,
      "outputs": [
        {
          "output_type": "display_data",
          "data": {
            "text/plain": [
              "<Figure size 640x480 with 1 Axes>"
            ],
            "image/png": "[encoded data removed]"
          },
          "metadata": {}
        }
      ]
    },
    {
      "cell_type": "code",
      "source": [],
      "metadata": {
        "id": "ICEik2Qmshhi"
      },
      "execution_count": null,
      "outputs": []
    },
    {
      "cell_type": "code",
      "source": [],
      "metadata": {
        "id": "viDvwzE0shj5"
      },
      "execution_count": null,
      "outputs": []
    },
    {
      "cell_type": "code",
      "source": [],
      "metadata": {
        "id": "d5T8rzV1shmZ"
      },
      "execution_count": null,
      "outputs": []
    },
    {
      "cell_type": "code",
      "source": [],
      "metadata": {
        "id": "a0sDUecjshop"
      },
      "execution_count": null,
      "outputs": []
    },
    {
      "cell_type": "code",
      "source": [],
      "metadata": {
        "id": "LVz3xNEVshrI"
      },
      "execution_count": null,
      "outputs": []
    },
    {
      "cell_type": "code",
      "source": [],
      "metadata": {
        "id": "HmFWRtFyshtv"
      },
      "execution_count": null,
      "outputs": []
    },
    {
      "cell_type": "code",
      "source": [],
      "metadata": {
        "id": "98qr7jxyshwG"
      },
      "execution_count": null,
      "outputs": []
    }
  ]
}